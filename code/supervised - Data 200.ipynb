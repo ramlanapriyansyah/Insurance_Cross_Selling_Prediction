{
 "cells": [
  {
   "cell_type": "markdown",
   "metadata": {},
   "source": [
    "## Load Data"
   ]
  },
  {
   "cell_type": "code",
   "execution_count": 11,
   "metadata": {},
   "outputs": [],
   "source": [
    "from sklearn.model_selection import train_test_split\n",
    "from sklearn.ensemble import AdaBoostClassifier\n",
    "\n",
    "import pandas as pd\n",
    "import matplotlib.pyplot as plt\n",
    "import pickle\n",
    "import seaborn as sns"
   ]
  },
  {
   "cell_type": "code",
   "execution_count": 12,
   "metadata": {},
   "outputs": [
    {
     "data": {
      "text/html": [
       "<div>\n",
       "<style scoped>\n",
       "    .dataframe tbody tr th:only-of-type {\n",
       "        vertical-align: middle;\n",
       "    }\n",
       "\n",
       "    .dataframe tbody tr th {\n",
       "        vertical-align: top;\n",
       "    }\n",
       "\n",
       "    .dataframe thead th {\n",
       "        text-align: right;\n",
       "    }\n",
       "</style>\n",
       "<table border=\"1\" class=\"dataframe\">\n",
       "  <thead>\n",
       "    <tr style=\"text-align: right;\">\n",
       "      <th></th>\n",
       "      <th>Driving_License</th>\n",
       "      <th>Region_Code</th>\n",
       "      <th>Previously_Insured</th>\n",
       "      <th>Vehicle_Age</th>\n",
       "      <th>Vehicle_Damage</th>\n",
       "      <th>Policy_Sales_Channel</th>\n",
       "      <th>Age_Bin</th>\n",
       "      <th>Vehicle_Damage_Age_Interaction</th>\n",
       "      <th>Response</th>\n",
       "    </tr>\n",
       "  </thead>\n",
       "  <tbody>\n",
       "    <tr>\n",
       "      <th>0</th>\n",
       "      <td>1</td>\n",
       "      <td>46.0</td>\n",
       "      <td>1</td>\n",
       "      <td>0</td>\n",
       "      <td>0</td>\n",
       "      <td>152.0</td>\n",
       "      <td>0</td>\n",
       "      <td>0</td>\n",
       "      <td>0</td>\n",
       "    </tr>\n",
       "    <tr>\n",
       "      <th>1</th>\n",
       "      <td>1</td>\n",
       "      <td>46.0</td>\n",
       "      <td>1</td>\n",
       "      <td>0</td>\n",
       "      <td>0</td>\n",
       "      <td>152.0</td>\n",
       "      <td>0</td>\n",
       "      <td>0</td>\n",
       "      <td>0</td>\n",
       "    </tr>\n",
       "    <tr>\n",
       "      <th>2</th>\n",
       "      <td>1</td>\n",
       "      <td>46.0</td>\n",
       "      <td>1</td>\n",
       "      <td>1</td>\n",
       "      <td>1</td>\n",
       "      <td>26.0</td>\n",
       "      <td>2</td>\n",
       "      <td>2</td>\n",
       "      <td>0</td>\n",
       "    </tr>\n",
       "    <tr>\n",
       "      <th>3</th>\n",
       "      <td>1</td>\n",
       "      <td>18.0</td>\n",
       "      <td>1</td>\n",
       "      <td>0</td>\n",
       "      <td>0</td>\n",
       "      <td>152.0</td>\n",
       "      <td>1</td>\n",
       "      <td>0</td>\n",
       "      <td>0</td>\n",
       "    </tr>\n",
       "    <tr>\n",
       "      <th>4</th>\n",
       "      <td>1</td>\n",
       "      <td>11.0</td>\n",
       "      <td>0</td>\n",
       "      <td>1</td>\n",
       "      <td>1</td>\n",
       "      <td>122.0</td>\n",
       "      <td>2</td>\n",
       "      <td>2</td>\n",
       "      <td>0</td>\n",
       "    </tr>\n",
       "  </tbody>\n",
       "</table>\n",
       "</div>"
      ],
      "text/plain": [
       "   Driving_License  Region_Code  Previously_Insured  Vehicle_Age   \n",
       "0                1         46.0                   1            0  \\\n",
       "1                1         46.0                   1            0   \n",
       "2                1         46.0                   1            1   \n",
       "3                1         18.0                   1            0   \n",
       "4                1         11.0                   0            1   \n",
       "\n",
       "   Vehicle_Damage  Policy_Sales_Channel  Age_Bin   \n",
       "0               0                 152.0        0  \\\n",
       "1               0                 152.0        0   \n",
       "2               1                  26.0        2   \n",
       "3               0                 152.0        1   \n",
       "4               1                 122.0        2   \n",
       "\n",
       "   Vehicle_Damage_Age_Interaction  Response  \n",
       "0                               0         0  \n",
       "1                               0         0  \n",
       "2                               2         0  \n",
       "3                               0         0  \n",
       "4                               2         0  "
      ]
     },
     "execution_count": 12,
     "metadata": {},
     "output_type": "execute_result"
    }
   ],
   "source": [
    "df = pd.read_csv('../dataset/after_selection/train.csv')\n",
    "df.head()"
   ]
  },
  {
   "cell_type": "markdown",
   "metadata": {},
   "source": [
    "## Modeling"
   ]
  },
  {
   "cell_type": "markdown",
   "metadata": {},
   "source": [
    "### Split Data Train & Test"
   ]
  },
  {
   "cell_type": "code",
   "execution_count": 13,
   "metadata": {},
   "outputs": [],
   "source": [
    "X = df.drop(columns=['Response'])\n",
    "y = df[['Response']]"
   ]
  },
  {
   "cell_type": "code",
   "execution_count": 14,
   "metadata": {},
   "outputs": [],
   "source": [
    "# Split the data into training and testing sets\n",
    "X_train, X_test, y_train, y_test = train_test_split(\n",
    "    X, y, test_size=0.2, random_state=42)"
   ]
  },
  {
   "cell_type": "markdown",
   "metadata": {},
   "source": [
    "### Evaluation Method"
   ]
  },
  {
   "cell_type": "code",
   "execution_count": 15,
   "metadata": {},
   "outputs": [],
   "source": [
    "from sklearn.metrics import accuracy_score, precision_score, recall_score, f1_score, roc_auc_score\n",
    "from sklearn.model_selection import cross_validate, StratifiedKFold\n",
    "\n",
    "\n",
    "def eval_classification(model, X_train, X_test, y_train, y_test, n_splits=5):\n",
    "    # Evaluate on the test set\n",
    "    y_pred_test = model.predict(X_test)\n",
    "\n",
    "    # StratifiedKFold for cross-validation with stratified sampling\n",
    "    cv = StratifiedKFold(n_splits=n_splits, shuffle=True, random_state=42)\n",
    "\n",
    "    # Perform cross-validation\n",
    "    cv_test_results = cross_validate(model, X_test, y_test, scoring=['roc_auc'],\n",
    "                                     cv=cv, return_train_score=False)\n",
    "    cv_train_results = cross_validate(model, X_train, y_train, scoring=['roc_auc'],\n",
    "                                      cv=cv, return_train_score=False)\n",
    "\n",
    "    # Display metrics for the training set\n",
    "    print(\"Metrics for the Test Set:\")\n",
    "    print(\"Accuracy: %.2f\" % accuracy_score(y_test, y_pred_test))\n",
    "    print(\"Precision: %.2f\" % precision_score(y_test, y_pred_test))\n",
    "    print(\"Recall: %.2f\" % recall_score(y_test, y_pred_test))\n",
    "    print(\"F1-Score: %.2f\" % f1_score(y_test, y_pred_test))\n",
    "    print()\n",
    "\n",
    "    # Display cross-validation results\n",
    "    print(\"Metrics Using Cross Validation:\")\n",
    "    print(f\"Mean ROC-AUC (Test): {cv_test_results['test_roc_auc'].mean():.2f}\")\n",
    "    print(f\"Std ROC-AUC (Test): {cv_test_results['test_roc_auc'].std():.2f}\")\n",
    "    print()\n",
    "    print(f\"Mean ROC-AUC (Train): {cv_train_results['test_roc_auc'].mean():.2f}\")\n",
    "    print(f\"Std ROC-AUC (Train): {cv_train_results['test_roc_auc'].std():.2f}\")"
   ]
  },
  {
   "cell_type": "markdown",
   "metadata": {},
   "source": [
    "### AdaBoost"
   ]
  },
  {
   "cell_type": "markdown",
   "metadata": {},
   "source": [
    "#### Base Model"
   ]
  },
  {
   "cell_type": "code",
   "execution_count": 16,
   "metadata": {},
   "outputs": [
    {
     "name": "stderr",
     "output_type": "stream",
     "text": [
      "c:\\Users\\asus\\AppData\\Local\\Programs\\Python\\Python311\\Lib\\site-packages\\sklearn\\utils\\validation.py:1143: DataConversionWarning: A column-vector y was passed when a 1d array was expected. Please change the shape of y to (n_samples, ), for example using ravel().\n",
      "  y = column_or_1d(y, warn=True)\n"
     ]
    },
    {
     "name": "stderr",
     "output_type": "stream",
     "text": [
      "c:\\Users\\asus\\AppData\\Local\\Programs\\Python\\Python311\\Lib\\site-packages\\sklearn\\utils\\validation.py:1143: DataConversionWarning: A column-vector y was passed when a 1d array was expected. Please change the shape of y to (n_samples, ), for example using ravel().\n",
      "  y = column_or_1d(y, warn=True)\n",
      "c:\\Users\\asus\\AppData\\Local\\Programs\\Python\\Python311\\Lib\\site-packages\\sklearn\\utils\\validation.py:1143: DataConversionWarning: A column-vector y was passed when a 1d array was expected. Please change the shape of y to (n_samples, ), for example using ravel().\n",
      "  y = column_or_1d(y, warn=True)\n",
      "c:\\Users\\asus\\AppData\\Local\\Programs\\Python\\Python311\\Lib\\site-packages\\sklearn\\utils\\validation.py:1143: DataConversionWarning: A column-vector y was passed when a 1d array was expected. Please change the shape of y to (n_samples, ), for example using ravel().\n",
      "  y = column_or_1d(y, warn=True)\n",
      "c:\\Users\\asus\\AppData\\Local\\Programs\\Python\\Python311\\Lib\\site-packages\\sklearn\\utils\\validation.py:1143: DataConversionWarning: A column-vector y was passed when a 1d array was expected. Please change the shape of y to (n_samples, ), for example using ravel().\n",
      "  y = column_or_1d(y, warn=True)\n",
      "c:\\Users\\asus\\AppData\\Local\\Programs\\Python\\Python311\\Lib\\site-packages\\sklearn\\utils\\validation.py:1143: DataConversionWarning: A column-vector y was passed when a 1d array was expected. Please change the shape of y to (n_samples, ), for example using ravel().\n",
      "  y = column_or_1d(y, warn=True)\n",
      "c:\\Users\\asus\\AppData\\Local\\Programs\\Python\\Python311\\Lib\\site-packages\\sklearn\\utils\\validation.py:1143: DataConversionWarning: A column-vector y was passed when a 1d array was expected. Please change the shape of y to (n_samples, ), for example using ravel().\n",
      "  y = column_or_1d(y, warn=True)\n",
      "c:\\Users\\asus\\AppData\\Local\\Programs\\Python\\Python311\\Lib\\site-packages\\sklearn\\utils\\validation.py:1143: DataConversionWarning: A column-vector y was passed when a 1d array was expected. Please change the shape of y to (n_samples, ), for example using ravel().\n",
      "  y = column_or_1d(y, warn=True)\n",
      "c:\\Users\\asus\\AppData\\Local\\Programs\\Python\\Python311\\Lib\\site-packages\\sklearn\\utils\\validation.py:1143: DataConversionWarning: A column-vector y was passed when a 1d array was expected. Please change the shape of y to (n_samples, ), for example using ravel().\n",
      "  y = column_or_1d(y, warn=True)\n",
      "c:\\Users\\asus\\AppData\\Local\\Programs\\Python\\Python311\\Lib\\site-packages\\sklearn\\utils\\validation.py:1143: DataConversionWarning: A column-vector y was passed when a 1d array was expected. Please change the shape of y to (n_samples, ), for example using ravel().\n",
      "  y = column_or_1d(y, warn=True)\n",
      "c:\\Users\\asus\\AppData\\Local\\Programs\\Python\\Python311\\Lib\\site-packages\\sklearn\\utils\\validation.py:1143: DataConversionWarning: A column-vector y was passed when a 1d array was expected. Please change the shape of y to (n_samples, ), for example using ravel().\n",
      "  y = column_or_1d(y, warn=True)\n"
     ]
    },
    {
     "name": "stdout",
     "output_type": "stream",
     "text": [
      "Metrics for the Test Set:\n",
      "Accuracy: 0.80\n",
      "Precision: 0.72\n",
      "Recall: 0.95\n",
      "F1-Score: 0.82\n",
      "\n",
      "Metrics Using Cross Validation:\n",
      "Mean ROC-AUC (Test): 0.84\n",
      "Std ROC-AUC (Test): 0.01\n",
      "\n",
      "Mean ROC-AUC (Train): 0.85\n",
      "Std ROC-AUC (Train): 0.00\n"
     ]
    }
   ],
   "source": [
    "clf = AdaBoostClassifier()\n",
    "clf.fit(X_train, y_train)\n",
    "eval_classification(clf, X_train, X_test, y_train, y_test)"
   ]
  },
  {
   "cell_type": "markdown",
   "metadata": {},
   "source": [
    "#### Hyperparameter Tunning"
   ]
  },
  {
   "cell_type": "code",
   "execution_count": 17,
   "metadata": {},
   "outputs": [],
   "source": [
    "# from sklearn.model_selection import RandomizedSearchCV, GridSearchCV\n",
    "# import numpy as np\n",
    "\n",
    "# # List of hyperparameter\n",
    "# hyperparameters = dict(n_estimators=[int(x) for x in np.linspace(start=50, stop=200, num=200)],\n",
    "#                        learning_rate=[float(x) for x in np.linspace(\n",
    "#                            start=0.001, stop=0.1, num=200)],\n",
    "#                        algorithm=['SAMME', 'SAMME.R']\n",
    "#                        )"
   ]
  },
  {
   "cell_type": "code",
   "execution_count": 18,
   "metadata": {},
   "outputs": [],
   "source": [
    "# # Init model\n",
    "# ab = AdaBoostClassifier(random_state=42)\n",
    "# ab_tuned = RandomizedSearchCV(ab, hyperparameters, random_state=42, cv=5, scoring='recall')\n",
    "# ab_tuned.fit(X_train, y_train)"
   ]
  },
  {
   "cell_type": "code",
   "execution_count": 19,
   "metadata": {},
   "outputs": [],
   "source": [
    "# print(f'Best Hyperparameters: {ab_tuned.best_params_}')"
   ]
  },
  {
   "cell_type": "code",
   "execution_count": 20,
   "metadata": {},
   "outputs": [],
   "source": [
    "# # Predict & Evaluation\n",
    "# eval_classification(ab_tuned, X_train, X_test, y_train, y_test)"
   ]
  },
  {
   "cell_type": "markdown",
   "metadata": {},
   "source": [
    "## Feature Importance"
   ]
  },
  {
   "cell_type": "markdown",
   "metadata": {},
   "source": [
    "### Visualization"
   ]
  },
  {
   "cell_type": "code",
   "execution_count": 21,
   "metadata": {},
   "outputs": [],
   "source": [
    "def show_feature_importance(model):\n",
    "    feat_importances = pd.Series(model.feature_importances_, index=X.columns)\n",
    "    ax = feat_importances.nlargest(25).plot(kind='barh', figsize=(10, 8))\n",
    "    ax.invert_yaxis()\n",
    "\n",
    "    plt.xlabel('score')\n",
    "    plt.ylabel('feature')\n",
    "    plt.title('feature importance score')"
   ]
  },
  {
   "cell_type": "code",
   "execution_count": 22,
   "metadata": {},
   "outputs": [
    {
     "data": {
      "image/png": "[encoded data removed]",
      "text/plain": [
       "<Figure size 1000x800 with 1 Axes>"
      ]
     },
     "metadata": {},
     "output_type": "display_data"
    }
   ],
   "source": [
    "show_feature_importance(clf)"
   ]
  },
  {
   "cell_type": "markdown",
   "metadata": {},
   "source": [
    "### Business Insight"
   ]
  },
  {
   "cell_type": "markdown",
   "metadata": {},
   "source": [
    "1. Policy Sales Channel:\n",
    "\n",
    "- Business Insight: Policy sales channel memiliki dampak besar terhadap hasil model, menunjukkan bahwa jalur penjualan tertentu memiliki pengaruh signifikan terhadap respons pelanggan terhadap penawaran asuransi kendaraan.\n",
    "- Rekomendasi: Perlu dilakukan analisis lebih lanjut untuk memahami karakteristik dan preferensi pelanggan yang menggunakan saluran penjualan tertentu. Upaya pemasaran dapat difokuskan pada peningkatan efektivitas saluran penjualan yang memberikan hasil positif.\n",
    "\n",
    "2. Region Code:\n",
    "\n",
    "- Business Insight: Region code juga memiliki pengaruh yang signifikan pada model, menunjukkan bahwa lokasi geografis memainkan peran penting dalam respons pelanggan.\n",
    "- Rekomendasi: Analisis lebih lanjut mengenai karakteristik dan preferensi pelanggan di berbagai wilayah dapat membantu mengarahkan strategi pemasaran yang lebih lokal dan disesuaikan.\n",
    "\n",
    "3. Age Bin:\n",
    "\n",
    "- Business Insight: Kategori usia (Age Bin) memengaruhi hasil model, menunjukkan bahwa segmentasi usia dapat menjadi faktor kunci dalam menentukan respons pelanggan.\n",
    "- Rekomendasi: Pemahaman lebih lanjut tentang preferensi dan kebutuhan asuransi kendaraan berdasarkan kategori usia dapat membimbing pengembangan produk yang lebih sesuai dan strategi pemasaran yang lebih efektif.\n",
    "\n",
    "4. Vehicle Damage:\n",
    "\n",
    "- Business Insight: Kondisi kerusakan kendaraan (Vehicle Damage) memiliki dampak besar pada respons pelanggan, menunjukkan bahwa pelanggan yang kendaraannya telah rusak mungkin lebih cenderung tertarik pada penawaran asuransi.\n",
    "- Rekomendasi: Fokus pemasaran dapat ditempatkan pada segmen pelanggan yang belum memiliki asuransi dan telah mengalami kerusakan kendaraan sebelumnya.\n",
    "\n",
    "5. Previously Insured:\n",
    "\n",
    "- Business Insight: Status asuransi sebelumnya (Previously Insured) juga merupakan faktor kunci dalam respons pelanggan, menandakan bahwa pelanggan yang belum diasuransikan sebelumnya cenderung merespons lebih positif.\n",
    "- Rekomendasi: Strategi pemasaran dapat lebih difokuskan pada pelanggan yang belum memiliki asuransi sebelumnya, dengan menekankan manfaat dan nilai tambah dari produk asuransi kendaraan."
   ]
  },
  {
   "cell_type": "markdown",
   "metadata": {},
   "source": [
    "## Model Comparison"
   ]
  },
  {
   "cell_type": "markdown",
   "metadata": {},
   "source": [
    "Masing-masing code model tersedia pada folder code_model. Berikut adalah hasil akhir masing-masing model yang terbaik"
   ]
  },
  {
   "cell_type": "code",
   "execution_count": 23,
   "metadata": {},
   "outputs": [
    {
     "data": {
      "text/html": [
       "<div>\n",
       "<style scoped>\n",
       "    .dataframe tbody tr th:only-of-type {\n",
       "        vertical-align: middle;\n",
       "    }\n",
       "\n",
       "    .dataframe tbody tr th {\n",
       "        vertical-align: top;\n",
       "    }\n",
       "\n",
       "    .dataframe thead th {\n",
       "        text-align: right;\n",
       "    }\n",
       "</style>\n",
       "<table border=\"1\" class=\"dataframe\">\n",
       "  <thead>\n",
       "    <tr style=\"text-align: right;\">\n",
       "      <th></th>\n",
       "      <th>Model</th>\n",
       "      <th>Accuracy</th>\n",
       "      <th>Precision</th>\n",
       "      <th>Recall</th>\n",
       "      <th>F1-Score</th>\n",
       "      <th>Mean ROC-AUC (Test)</th>\n",
       "      <th>Std ROC-AUC (Test)</th>\n",
       "      <th>Mean ROC-AUC (Train)</th>\n",
       "      <th>Std ROC-AUC (Train)</th>\n",
       "    </tr>\n",
       "  </thead>\n",
       "  <tbody>\n",
       "    <tr>\n",
       "      <th>0</th>\n",
       "      <td>AdaBoost</td>\n",
       "      <td>0.8</td>\n",
       "      <td>0.73</td>\n",
       "      <td>0.95</td>\n",
       "      <td>0.82</td>\n",
       "      <td>0.84</td>\n",
       "      <td>0.00</td>\n",
       "      <td>0.85</td>\n",
       "      <td>0.0</td>\n",
       "    </tr>\n",
       "    <tr>\n",
       "      <th>1</th>\n",
       "      <td>LightGBM</td>\n",
       "      <td>0.8</td>\n",
       "      <td>0.73</td>\n",
       "      <td>0.94</td>\n",
       "      <td>0.82</td>\n",
       "      <td>0.84</td>\n",
       "      <td>0.01</td>\n",
       "      <td>0.85</td>\n",
       "      <td>0.0</td>\n",
       "    </tr>\n",
       "    <tr>\n",
       "      <th>2</th>\n",
       "      <td>XGBoost</td>\n",
       "      <td>0.8</td>\n",
       "      <td>0.73</td>\n",
       "      <td>0.94</td>\n",
       "      <td>0.82</td>\n",
       "      <td>0.84</td>\n",
       "      <td>0.01</td>\n",
       "      <td>0.85</td>\n",
       "      <td>0.0</td>\n",
       "    </tr>\n",
       "    <tr>\n",
       "      <th>3</th>\n",
       "      <td>K nearest neighbors</td>\n",
       "      <td>0.8</td>\n",
       "      <td>0.73</td>\n",
       "      <td>0.94</td>\n",
       "      <td>0.82</td>\n",
       "      <td>0.64</td>\n",
       "      <td>0.00</td>\n",
       "      <td>0.65</td>\n",
       "      <td>0.0</td>\n",
       "    </tr>\n",
       "    <tr>\n",
       "      <th>4</th>\n",
       "      <td>CatBoost</td>\n",
       "      <td>0.8</td>\n",
       "      <td>0.73</td>\n",
       "      <td>0.93</td>\n",
       "      <td>0.82</td>\n",
       "      <td>0.84</td>\n",
       "      <td>0.01</td>\n",
       "      <td>0.85</td>\n",
       "      <td>0.0</td>\n",
       "    </tr>\n",
       "    <tr>\n",
       "      <th>5</th>\n",
       "      <td>Random Forest</td>\n",
       "      <td>0.8</td>\n",
       "      <td>0.73</td>\n",
       "      <td>0.93</td>\n",
       "      <td>0.82</td>\n",
       "      <td>0.84</td>\n",
       "      <td>0.01</td>\n",
       "      <td>0.85</td>\n",
       "      <td>0.0</td>\n",
       "    </tr>\n",
       "  </tbody>\n",
       "</table>\n",
       "</div>"
      ],
      "text/plain": [
       "                 Model  Accuracy  Precision  Recall  F1-Score   \n",
       "0             AdaBoost       0.8       0.73    0.95      0.82  \\\n",
       "1             LightGBM       0.8       0.73    0.94      0.82   \n",
       "2              XGBoost       0.8       0.73    0.94      0.82   \n",
       "3  K nearest neighbors       0.8       0.73    0.94      0.82   \n",
       "4             CatBoost       0.8       0.73    0.93      0.82   \n",
       "5        Random Forest       0.8       0.73    0.93      0.82   \n",
       "\n",
       "   Mean ROC-AUC (Test)  Std ROC-AUC (Test)  Mean ROC-AUC (Train)   \n",
       "0                 0.84                0.00                  0.85  \\\n",
       "1                 0.84                0.01                  0.85   \n",
       "2                 0.84                0.01                  0.85   \n",
       "3                 0.64                0.00                  0.65   \n",
       "4                 0.84                0.01                  0.85   \n",
       "5                 0.84                0.01                  0.85   \n",
       "\n",
       "   Std ROC-AUC (Train)  \n",
       "0                  0.0  \n",
       "1                  0.0  \n",
       "2                  0.0  \n",
       "3                  0.0  \n",
       "4                  0.0  \n",
       "5                  0.0  "
      ]
     },
     "execution_count": 23,
     "metadata": {},
     "output_type": "execute_result"
    }
   ],
   "source": [
    "# Data for the models\n",
    "data = {\n",
    "    'Model': ['LightGBM', 'CatBoost', 'K nearest neighbors', 'Random Forest', 'AdaBoost', 'XGBoost'],\n",
    "    'Accuracy': [0.80, 0.80, 0.80, 0.80, 0.80, 0.80],\n",
    "    'Precision': [0.73, 0.73, 0.73, 0.73, 0.73, 0.73],\n",
    "    'Recall': [0.94, 0.93, 0.94, 0.93, 0.95, 0.94],\n",
    "    'F1-Score': [0.82, 0.82, 0.82, 0.82, 0.82, 0.82],\n",
    "    'Mean ROC-AUC (Test)': [0.84, 0.84, 0.64, 0.84, 0.84, 0.84],\n",
    "    'Std ROC-AUC (Test)': [0.01, 0.01, 0.00, 0.01, 0.00, 0.01],\n",
    "    'Mean ROC-AUC (Train)': [0.85, 0.85, 0.65, 0.85, 0.85, 0.85],\n",
    "    'Std ROC-AUC (Train)': [0.00, 0.00, 0.00, 0.00, 0.00, 0.00]\n",
    "}\n",
    "\n",
    "# Create DataFrame\n",
    "df = pd.DataFrame(data)\n",
    "df = df.sort_values(by=['Recall', 'Mean ROC-AUC (Test)', 'Std ROC-AUC (Test)'], ascending=False).reset_index(drop=True)\n",
    "\n",
    "# Display DataFrame\n",
    "df"
   ]
  },
  {
   "cell_type": "markdown",
   "metadata": {},
   "source": [
    "Hasil eksperimen kami menunjukkan bahwa dari beberapa algoritma yang diuji, fokus pada metrik Recall, Adaboosting menghasilkan nilai Recall terbesar. Oleh karena itu, model yang dipilih untuk implementasi adalah menggunakan Adaboosting. Pemilihan ini didasarkan pada keinginan untuk memaksimalkan Recall, khususnya dalam mengidentifikasi pelanggan yang sebenarnya tertarik, dengan menghindari False Negatives. Keputusan ini diharapkan dapat memberikan keunggulan dalam konteks penawaran Asuransi Kendaraan, dengan meningkatkan kemampuan model untuk mengenali dengan akurat pelanggan yang berpotensi tertarik. Tetap diingat untuk terus memantau dan memelihara model untuk memastikan kinerjanya tetap optimal dan sesuai dengan kebutuhan bisnis yang berkembang."
   ]
  },
  {
   "cell_type": "markdown",
   "metadata": {},
   "source": [
    "### Model Prediction"
   ]
  },
  {
   "cell_type": "code",
   "execution_count": 52,
   "metadata": {},
   "outputs": [
    {
     "name": "stdout",
     "output_type": "stream",
     "text": [
      "Conversion Rate: 59.36%\n"
     ]
    }
   ],
   "source": [
    "import numpy as np\n",
    "\n",
    "# Assuming you have predictions from the model\n",
    "predictions = clf.predict(X_test)\n",
    "\n",
    "# Convert y_test to a NumPy array if it's a DataFrame or Series\n",
    "y_test_array = np.array(y_test)\n",
    "\n",
    "# Calculate the conversion rate for correct predictions where the predicted label is 1\n",
    "correct_predictions = predictions == y_test_array.ravel()\n",
    "conversion_rate = np.sum(predictions[correct_predictions]) / np.sum(correct_predictions)\n",
    "\n",
    "# Print results\n",
    "print(f\"Conversion Rate: {conversion_rate * 100:.2f}%\")"
   ]
  },
  {
   "cell_type": "code",
   "execution_count": 28,
   "metadata": {},
   "outputs": [
    {
     "name": "stdout",
     "output_type": "stream",
     "text": [
      "Response\n",
      "0    74484\n",
      "1    52553\n",
      "Name: count, dtype: int64\n"
     ]
    }
   ],
   "source": [
    "import csv\n",
    "\n",
    "# Your input data for prediction (replace this with your actual input data)\n",
    "new_data = pd.read_csv('../dataset/after_selection/test.csv')\n",
    "\n",
    "# Make predictions\n",
    "predictions = clf.predict(new_data)\n",
    "\n",
    "new_data['Response'] = predictions\n",
    "\n",
    "# Print or use the predictions as needed\n",
    "print(new_data.Response.value_counts())\n",
    "new_data.to_csv('../dataset/after_selection/predicted.csv', index=False)"
   ]
  }
 ],
 "metadata": {
  "kernelspec": {
   "display_name": "Python 3",
   "language": "python",
   "name": "python3"
  },
  "language_info": {
   "codemirror_mode": {
    "name": "ipython",
    "version": 3
   },
   "file_extension": ".py",
   "mimetype": "text/x-python",
   "name": "python",
   "nbconvert_exporter": "python",
   "pygments_lexer": "ipython3",
   "version": "3.11.6"
  }
 },
 "nbformat": 4,
 "nbformat_minor": 2
}
